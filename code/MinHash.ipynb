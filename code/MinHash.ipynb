{
 "cells": [
  {
   "cell_type": "code",
   "execution_count": 2,
   "id": "afe94871",
   "metadata": {},
   "outputs": [],
   "source": [
    "import numpy as np\n",
    "import hashlib"
   ]
  },
  {
   "cell_type": "markdown",
   "id": "6e4f5bf9",
   "metadata": {},
   "source": [
    "Name A: Marcus Stephan Nordal\n",
    "\n",
    "Name B: Silviu Mihai"
   ]
  },
  {
   "cell_type": "code",
   "execution_count": 3,
   "id": "42d4a72d",
   "metadata": {},
   "outputs": [],
   "source": [
    "#Four (4) 'relevant' TDT4305 sentences\n",
    "\n",
    "Sentence_1 = \"The Big Data platform for students is Blackboard\"\n",
    "#sentence_1 = ['big', 'blackboard', 'data', 'platform', 'students']\n",
    "Sentence_2 = \"Questions on MinHash project by NTNU students is on Piazza\"\n",
    "#sentence_2 = ['minhash', 'ntnu', 'piazza', 'project', 'questions', 'students']\n",
    "Sentence_3 = \"NTNU Big Data platform are Blackboard and Piazza\"\n",
    "#sentence_3 = ['big', 'blackboard', 'data', 'ntnu', 'piazza', 'platform']\n",
    "Sentence_4 = \"The project data for students are on Blackboard not Piazza\"\n",
    "#sentence_4 = ['blackboard', 'data', 'piazza', 'project', 'students']"
   ]
  },
  {
   "cell_type": "code",
   "execution_count": 4,
   "id": "f619be36",
   "metadata": {},
   "outputs": [],
   "source": [
    "unique_words = ['big', 'blackboard', 'data', 'minhash', 'ntnu', 'piazza', 'platform', 'project', 'questions', 'students'] # Enter the unique words list here\n",
    "\n"
   ]
  },
  {
   "cell_type": "code",
   "execution_count": 5,
   "id": "e633fa9c",
   "metadata": {},
   "outputs": [
    {
     "name": "stdout",
     "output_type": "stream",
     "text": [
      "Format: ['word', 'word', 'word' ...] & watch out for white spaces before comma\n",
      "Correct! Your dictionary matched!\n"
     ]
    }
   ],
   "source": [
    "# User input\n",
    "\n",
    "print(f\"Format: ['word', 'word', 'word' ...] & watch out for white spaces before comma\")\n",
    "user_input = str(input(\"Enter your created list of unique words: \")) \n",
    "\n",
    "f = open(\"encrypted_dictionary.txt\", \"r\")\n",
    "encrypted_words = f.read()\n",
    "\n",
    "\n",
    "# Hash the user input\n",
    "hashed_user_input = hashlib.sha256(user_input.encode()).hexdigest()\n",
    "\n",
    "# Compare with the stored hash\n",
    "if hashed_user_input == encrypted_words:\n",
    "    print(\"Correct! Your dictionary matched!\")\n",
    "else:\n",
    "    print(\"Incorrect! Try again.\")"
   ]
  },
  {
   "cell_type": "code",
   "execution_count": 6,
   "id": "0b10d096",
   "metadata": {},
   "outputs": [
    {
     "name": "stdout",
     "output_type": "stream",
     "text": [
      "[[0, 0, 0, 0, 0, 0, 1, 0, 0, 1], [0, 0, 0, 0, 0, 0, 0, 1, 0, 1], [0, 0, 0, 0, 0, 0, 1, 0, 0, 0], [0, 0, 1, 0, 0, 0, 0, 1, 0, 1]]\n",
      "Input Matrix:\n",
      "[0, 0, 0, 0, 0, 0, 1, 0, 0, 1]\n",
      "[0, 0, 0, 0, 0, 0, 0, 1, 0, 1]\n",
      "[0, 0, 0, 0, 0, 0, 1, 0, 0, 0]\n",
      "[0, 0, 1, 0, 0, 0, 0, 1, 0, 1]\n",
      "\n",
      "Jaccard Similarity Matrix:\n",
      "[0.5, 0.7407407407407407, 0.7692307692307693]\n",
      "[0.53125, 0.6551724137931034]\n",
      "[0.6785714285714286]\n",
      "\n",
      "The most similar pair is Sentence_1 and Sentence_4 with a Jaccard Similarity of 0.7692307692307693\n"
     ]
    }
   ],
   "source": []
  },
  {
   "cell_type": "code",
   "execution_count": 7,
   "id": "8b7267f5",
   "metadata": {},
   "outputs": [],
   "source": [
    "## Compute the values for the input matrix here ##"
   ]
  },
  {
   "cell_type": "code",
   "execution_count": 8,
   "id": "acf3c3dd",
   "metadata": {},
   "outputs": [],
   "source": [
    "Sig_M = [] # Create a MinHash signature matrix array with inf values"
   ]
  },
  {
   "cell_type": "code",
   "execution_count": 9,
   "id": "145bfafc",
   "metadata": {},
   "outputs": [],
   "source": [
    "# Generate hash functions"
   ]
  },
  {
   "cell_type": "code",
   "execution_count": 10,
   "id": "3f799a86",
   "metadata": {},
   "outputs": [],
   "source": [
    "hash_1 = []"
   ]
  },
  {
   "cell_type": "code",
   "execution_count": 11,
   "id": "0f0195cc",
   "metadata": {},
   "outputs": [],
   "source": [
    "hash_2 = []"
   ]
  },
  {
   "cell_type": "code",
   "execution_count": 12,
   "id": "4a3c8256",
   "metadata": {},
   "outputs": [],
   "source": [
    "hash_3 = []"
   ]
  },
  {
   "cell_type": "code",
   "execution_count": 13,
   "id": "e854ba69",
   "metadata": {},
   "outputs": [],
   "source": [
    "hash_list = [hash_1, hash_2, hash_3]"
   ]
  },
  {
   "cell_type": "code",
   "execution_count": 14,
   "id": "06ed6049",
   "metadata": {},
   "outputs": [
    {
     "data": {
      "text/plain": [
       "[[], [], []]"
      ]
     },
     "execution_count": 14,
     "metadata": {},
     "output_type": "execute_result"
    }
   ],
   "source": [
    "hash_list"
   ]
  },
  {
   "cell_type": "code",
   "execution_count": 15,
   "id": "a6218bf7",
   "metadata": {},
   "outputs": [],
   "source": [
    "## Using the hash functions and the input matrix compute the MinHash signature matrix here ##"
   ]
  },
  {
   "cell_type": "code",
   "execution_count": 16,
   "id": "56c9d088",
   "metadata": {},
   "outputs": [
    {
     "data": {
      "text/plain": [
       "[]"
      ]
     },
     "execution_count": 16,
     "metadata": {},
     "output_type": "execute_result"
    }
   ],
   "source": [
    "# print the updated MinHash signature matrix\n",
    "\n",
    "Sig_M"
   ]
  }
 ],
 "metadata": {
  "kernelspec": {
   "display_name": "Python 3 (ipykernel)",
   "language": "python",
   "name": "python3"
  },
  "language_info": {
   "codemirror_mode": {
    "name": "ipython",
    "version": 3
   },
   "file_extension": ".py",
   "mimetype": "text/x-python",
   "name": "python",
   "nbconvert_exporter": "python",
   "pygments_lexer": "ipython3",
   "version": "3.12.0"
  }
 },
 "nbformat": 4,
 "nbformat_minor": 5
}
