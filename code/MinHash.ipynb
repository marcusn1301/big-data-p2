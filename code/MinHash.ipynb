{
 "cells": [
  {
   "cell_type": "code",
   "execution_count": null,
   "id": "afe94871",
   "metadata": {},
   "outputs": [],
   "source": [
    "import numpy as np\n",
    "import hashlib"
   ]
  },
  {
   "cell_type": "markdown",
   "id": "6e4f5bf9",
   "metadata": {},
   "source": [
    "Name A: Marcus Stephan Nordal\n",
    "\n",
    "Name B: Silviu Mihai"
   ]
  },
  {
   "cell_type": "code",
   "execution_count": null,
   "id": "42d4a72d",
   "metadata": {},
   "outputs": [],
   "source": [
    "#Four (4) 'relevant' TDT4305 sentences\n",
    "\n",
    "Sentence_1 = \"The Big Data platform for students is Blackboard\"\n",
    "#sentence_1 = ['big', 'blackboard', 'data', 'platform', 'students']\n",
    "Sentence_2 = \"Questions on MinHash project by NTNU students is on Piazza\"\n",
    "#sentence_2 = ['minhash', 'ntnu', 'piazza', 'project', 'questions', 'students']\n",
    "Sentence_3 = \"NTNU Big Data platform are Blackboard and Piazza\"\n",
    "#sentence_3 = ['big', 'blackboard', 'data', 'ntnu', 'piazza', 'platform']\n",
    "Sentence_4 = \"The project data for students are on Blackboard not Piazza\"\n",
    "#sentence_4 = ['blackboard', 'data', 'piazza', 'project', 'students']"
   ]
  },
  {
   "cell_type": "code",
   "execution_count": 395,
   "id": "f619be36",
   "metadata": {},
   "outputs": [],
   "source": [
    "unique_words = ['big', 'blackboard', 'data', 'minhash', 'ntnu', 'piazza', 'platform', 'project', 'questions', 'students'] # Enter the unique words list here\n",
    "\n"
   ]
  },
  {
   "cell_type": "code",
   "execution_count": 396,
   "id": "e633fa9c",
   "metadata": {},
   "outputs": [
    {
     "name": "stdout",
     "output_type": "stream",
     "text": [
      "Format: ['word', 'word', 'word' ...] & watch out for white spaces before comma\n",
      "Correct! Your dictionary matched!\n"
     ]
    }
   ],
   "source": [
    "# User input\n",
    "\n",
    "print(f\"Format: ['word', 'word', 'word' ...] & watch out for white spaces before comma\")\n",
    "user_input = str(input(\"Enter your created list of unique words: \")) \n",
    "\n",
    "f = open(\"encrypted_dictionary.txt\", \"r\")\n",
    "encrypted_words = f.read()\n",
    "\n",
    "\n",
    "# Hash the user input\n",
    "hashed_user_input = hashlib.sha256(user_input.encode()).hexdigest()\n",
    "\n",
    "# Compare with the stored hash\n",
    "if hashed_user_input == encrypted_words:\n",
    "    print(\"Correct! Your dictionary matched!\")\n",
    "else:\n",
    "    print(\"Incorrect! Try again.\")"
   ]
  },
  {
   "cell_type": "code",
   "execution_count": 397,
   "id": "0b10d096",
   "metadata": {},
   "outputs": [],
   "source": [
    "Input_Matrix = [] "
   ]
  },
  {
   "cell_type": "code",
   "execution_count": 398,
   "id": "8b7267f5",
   "metadata": {},
   "outputs": [
    {
     "name": "stdout",
     "output_type": "stream",
     "text": [
      "Input Matrix:\n",
      "[[1, 1, 1, 0, 0, 0, 1, 0, 0, 1], [0, 0, 0, 1, 1, 1, 0, 1, 1, 1], [1, 1, 1, 0, 1, 1, 1, 0, 0, 0], [0, 1, 1, 0, 0, 1, 0, 1, 0, 1]]\n",
      "\n",
      "\n"
     ]
    }
   ],
   "source": [
    "## Compute the values for the input matrix here ##\n",
    "\n",
    "Sentence_1 = Sentence_1.lower()\n",
    "Sentence_2 = Sentence_2.lower()\n",
    "Sentence_3 = Sentence_3.lower()\n",
    "Sentence_4 = Sentence_4.lower()\n",
    "\n",
    "input_matrix = [\n",
    "    [1 if word in Sentence_1 else 0 for word in unique_words],\n",
    "    [1 if word in Sentence_2 else 0 for word in unique_words],\n",
    "    [1 if word in Sentence_3 else 0 for word in unique_words],\n",
    "    [1 if word in Sentence_4 else 0 for word in unique_words]\n",
    "]\n",
    "print(\"Input Matrix:\")\n",
    "print(input_matrix)\n",
    "print(\"\\n\")\n"
   ]
  },
  {
   "cell_type": "code",
   "execution_count": 399,
   "id": "acf3c3dd",
   "metadata": {},
   "outputs": [
    {
     "name": "stdout",
     "output_type": "stream",
     "text": [
      "[[inf inf inf inf]\n",
      " [inf inf inf inf]\n",
      " [inf inf inf inf]]\n"
     ]
    }
   ],
   "source": [
    "Sig_M = np.array(np.ones((3,4)) * np.inf) # Create a MinHash signature matrix array with inf values\n",
    "\n",
    "print(Sig_M)\n",
    "\n",
    "\n"
   ]
  },
  {
   "cell_type": "code",
   "execution_count": 409,
   "id": "dbadadc6",
   "metadata": {},
   "outputs": [
    {
     "name": "stdout",
     "output_type": "stream",
     "text": [
      "Input Matrix:\n",
      "[[1, 1, 1, 0, 0, 0, 1, 0, 0, 1], [0, 0, 0, 1, 1, 1, 0, 1, 1, 1], [1, 1, 1, 0, 1, 1, 1, 0, 0, 0], [0, 1, 1, 0, 0, 1, 0, 1, 0, 1]]\n"
     ]
    }
   ],
   "source": [
    "Input_Matrix = input_matrix\n",
    "print(\"Input Matrix:\")\n",
    "print(Input_Matrix)"
   ]
  },
  {
   "cell_type": "code",
   "execution_count": 410,
   "id": "145bfafc",
   "metadata": {},
   "outputs": [],
   "source": [
    "# Generate hash functions\n",
    "#h1 = (x + 3) mod 10 + 1\n",
    "#h2 = (7x + 1) mod 10 + 1\n",
    "#h3 = (7x + 2) mod 10 + 1\n"
   ]
  },
  {
   "cell_type": "code",
   "execution_count": 418,
   "id": "3f799a86",
   "metadata": {},
   "outputs": [],
   "source": [
    "hash_1 = [lambda x,a=1, b=3: (a*x + b) % 10 + 1]\n"
   ]
  },
  {
   "cell_type": "code",
   "execution_count": 419,
   "id": "0f0195cc",
   "metadata": {},
   "outputs": [],
   "source": [
    "hash_2 = [lambda x,a=7, b=1: (a*x + b) % 10 + 1]\n"
   ]
  },
  {
   "cell_type": "code",
   "execution_count": 420,
   "id": "4a3c8256",
   "metadata": {},
   "outputs": [],
   "source": [
    "hash_3 = [lambda x,a=7, b=2: (a*x + b) % 10 + 1]"
   ]
  },
  {
   "cell_type": "code",
   "execution_count": 421,
   "id": "e854ba69",
   "metadata": {},
   "outputs": [],
   "source": [
    "hash_list = [hash_1, hash_2, hash_3]"
   ]
  },
  {
   "cell_type": "code",
   "execution_count": 422,
   "id": "06ed6049",
   "metadata": {},
   "outputs": [
    {
     "name": "stdout",
     "output_type": "stream",
     "text": [
      "[[<function <lambda> at 0x114137100>], [<function <lambda> at 0x114135c60>], [<function <lambda> at 0x114134f40>]]\n"
     ]
    }
   ],
   "source": [
    "print(hash_list)"
   ]
  },
  {
   "cell_type": "code",
   "execution_count": 423,
   "id": "a6218bf7",
   "metadata": {},
   "outputs": [],
   "source": [
    "## Using the hash functions and the input matrix compute the MinHash signature matrix here ##\n"
   ]
  },
  {
   "cell_type": "code",
   "execution_count": 424,
   "id": "56c9d088",
   "metadata": {},
   "outputs": [
    {
     "data": {
      "text/plain": [
       "array([[inf, inf, inf, inf],\n",
       "       [inf, inf, inf, inf],\n",
       "       [inf, inf, inf, inf]])"
      ]
     },
     "execution_count": 424,
     "metadata": {},
     "output_type": "execute_result"
    }
   ],
   "source": [
    "# print the updated MinHash signature matrix\n",
    "\n",
    "Sig_M"
   ]
  }
 ],
 "metadata": {
  "kernelspec": {
   "display_name": "Python 3 (ipykernel)",
   "language": "python",
   "name": "python3"
  },
  "language_info": {
   "codemirror_mode": {
    "name": "ipython",
    "version": 3
   },
   "file_extension": ".py",
   "mimetype": "text/x-python",
   "name": "python",
   "nbconvert_exporter": "python",
   "pygments_lexer": "ipython3",
   "version": "3.12.0"
  }
 },
 "nbformat": 4,
 "nbformat_minor": 5
}
